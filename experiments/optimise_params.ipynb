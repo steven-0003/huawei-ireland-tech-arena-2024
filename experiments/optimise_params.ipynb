{
 "cells": [
  {
   "cell_type": "code",
   "execution_count": 1,
   "metadata": {},
   "outputs": [],
   "source": [
    "import sys\n",
    "import pandas as pd\n",
    "import numpy as np\n",
    "import matplotlib.pyplot as plt\n",
    "import random"
   ]
  },
  {
   "cell_type": "code",
   "execution_count": 2,
   "metadata": {},
   "outputs": [],
   "source": [
    "sys.path.insert(1, '../')\n",
    "from helpers.decision_maker import DecisionMaker\n",
    "from seeds import known_seeds\n",
    "from evaluation import get_actual_demand\n",
    "from utils import save_solution\n",
    "from utils import load_problem_data"
   ]
  },
  {
   "cell_type": "code",
   "execution_count": 3,
   "metadata": {},
   "outputs": [],
   "source": [
    "def get_my_solution(d, p, seed):\n",
    "    _, datacenters, servers, selling_prices, _ = load_problem_data(path='../data/')\n",
    "    \n",
    "    decision_maker = DecisionMaker(datacenters,servers,selling_prices, d, seed, p)\n",
    "\n",
    "    fleet, prices, O = decision_maker.solve()\n",
    "\n",
    "    return pd.DataFrame(fleet), pd.DataFrame(prices), O"
   ]
  },
  {
   "cell_type": "code",
   "execution_count": 4,
   "metadata": {},
   "outputs": [],
   "source": [
    "def get_all_solutions(p, seed):\n",
    "    demand = pd.read_csv('../data/demand.csv')\n",
    "\n",
    "    # SET THE RANDOM SEED\n",
    "    np.random.seed(seed)\n",
    "\n",
    "    # GET THE DEMAND\n",
    "    actual_demand = get_actual_demand(demand)\n",
    "\n",
    "    # CALL YOUR APPROACH HERE\n",
    "    _, _, O = get_my_solution(actual_demand, p, seed)\n",
    "    \n",
    "    return O"
   ]
  },
  {
   "cell_type": "code",
   "execution_count": null,
   "metadata": {},
   "outputs": [],
   "source": [
    "ps = [False, True]\n",
    "seeds = [2521, 2381, 5351, 6047, 6829, 9221, 9859, 8053, 1097, 8677]\n",
    "\n",
    "\n",
    "\n",
    "all_best_params = {}\n",
    "\n",
    "for seed in seeds:\n",
    "    best_params = {}\n",
    "\n",
    "    params = []\n",
    "    for i in range(len(ps)):\n",
    "        \n",
    "        p = random.choice(ps)\n",
    "        while(p in params):\n",
    "            p = random.choice(ps)\n",
    "        params.append(p)\n",
    "        score = get_all_solutions(p,seed)\n",
    "        \n",
    "        avg = score\n",
    "        f = open('results.txt', 'a+')\n",
    "        f.write(\"SEED#: \" + str(seed) + \" | score: \" + str(avg) + \" | buyOnce: \" +  str(p)  + \"\\n\")\n",
    "        f.close()\n",
    "        if len(best_params)<5:\n",
    "            best_params[avg] = p\n",
    "        else:\n",
    "            worst_score = sorted(best_params.keys())[0]\n",
    "            if avg > worst_score:\n",
    "                del best_params[worst_score]\n",
    "                best_params[avg] = p\n",
    "\n",
    "    print(\"SEED#: \", str(seed))\n",
    "    print(best_params)\n",
    "    all_best_params[seed] = best_params\n",
    "\n"
   ]
  }
 ],
 "metadata": {
  "kernelspec": {
   "display_name": ".venv",
   "language": "python",
   "name": "python3"
  },
  "language_info": {
   "codemirror_mode": {
    "name": "ipython",
    "version": 3
   },
   "file_extension": ".py",
   "mimetype": "text/x-python",
   "name": "python",
   "nbconvert_exporter": "python",
   "pygments_lexer": "ipython3",
   "version": "3.11.9"
  }
 },
 "nbformat": 4,
 "nbformat_minor": 2
}
